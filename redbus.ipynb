{
 "cells": [
  {
   "cell_type": "code",
   "execution_count": 1,
   "metadata": {},
   "outputs": [],
   "source": [
    "#importing necessary libraries\n",
    "from selenium import webdriver\n",
    "from selenium.webdriver.common.keys import Keys\n",
    "from selenium.webdriver.common.by import By\n",
    "from selenium.webdriver import ActionChains\n",
    "from selenium.common.exceptions import TimeoutException, NoSuchElementException\n",
    "from selenium.webdriver.support.ui import WebDriverWait\n",
    "from selenium.webdriver.support import expected_conditions as EC\n",
    "import time\n",
    "import pandas as pd\n",
    "import sqlalchemy\n",
    "import json"
   ]
  },
  {
   "cell_type": "code",
   "execution_count": 2,
   "metadata": {},
   "outputs": [],
   "source": [
    "statelinks = [\n",
    "    'https://www.redbus.in/online-booking/apsrtc/?utm_source=rtchometile',\n",
    "    'https://www.redbus.in/online-booking/tsrtc/?utm_source=rtchometile',\n",
    "    'https://www.redbus.in/online-booking/ksrtc-kerala/?utm_source=rtchometile',\n",
    "    'https://www.redbus.in/online-booking/south-bengal-state-transport-corporation-sbstc/?utm_source=rtchometile',\n",
    "    'https://www.redbus.in/online-booking/west-bengal-transport-corporation?utm_source=rtchometile',\n",
    "    'https://www.redbus.in/online-booking/bihar-state-road-transport-corporation-bsrtc/?utm_source=rtchometile',\n",
    "    'https://www.redbus.in/online-booking/hrtc/?utm_source=rtchometile',\n",
    "    'https://www.redbus.in/online-booking/rsrtc/?utm_source=rtchometile',\n",
    "    'https://www.redbus.in/online-booking/pepsu/?utm_source=rtchometile',\n",
    "    'https://www.redbus.in/online-booking/astc/?utm_source=rtchometile'\n",
    "]"
   ]
  },
  {
   "cell_type": "code",
   "execution_count": 3,
   "metadata": {},
   "outputs": [
    {
     "data": {
      "text/plain": [
       "10"
      ]
     },
     "execution_count": 3,
     "metadata": {},
     "output_type": "execute_result"
    }
   ],
   "source": [
    "len(statelinks)"
   ]
  },
  {
   "cell_type": "code",
   "execution_count": 5,
   "metadata": {},
   "outputs": [],
   "source": [
    "driver = webdriver.Chrome()\n",
    "driver.get(statelinks[2]) #KSRTC\n",
    "time.sleep(3)\n",
    "driver.maximize_window()"
   ]
  },
  {
   "cell_type": "code",
   "execution_count": 6,
   "metadata": {},
   "outputs": [],
   "source": [
    "def container_moving(num):\n",
    "    scroll_pixel = num  # Pixels to scroll\n",
    "    driver.execute_script(f\"window.scrollTo(0, {scroll_pixel});\")\n",
    "    time.sleep(2)  # Adjust sleep time for smoother scrolling"
   ]
  },
  {
   "cell_type": "code",
   "execution_count": 8,
   "metadata": {},
   "outputs": [],
   "source": [
    "from selenium.webdriver.common.by import By\n",
    "from selenium.webdriver.support.ui import WebDriverWait\n",
    "from selenium.webdriver.support import expected_conditions as EC\n",
    "from selenium.common.exceptions import NoSuchElementException, NoSuchWindowException, TimeoutException\n",
    "import time\n",
    "\n",
    "# Initialize the WebDriver (this example uses Chrome, ensure you have the chromedriver executable in your PATH)\n",
    "driver = webdriver.Chrome()\n",
    "\n",
    "# Navigate to the starting URL (replace with the actual URL you are working with)\n",
    "driver.get(statelinks[2])\n",
    "time.sleep(3)\n",
    "\n",
    "# Maximize window\n",
    "driver.maximize_window()\n",
    "\n",
    "# Retrieve kerala routes\n",
    "def retrieve_kerala_routes(driver, path):   \n",
    "    links_kerala = []\n",
    "    route_kerala = []\n",
    "    \n",
    "    # Wait for the page to load\n",
    "    wait = WebDriverWait(driver, 10)\n",
    "    \n",
    "    try:\n",
    "        # Iterate a source page to load\n",
    "        for i in range(1, 3):\n",
    "\n",
    "            # Retrieve route links and names\n",
    "            paths = driver.find_elements(By.XPATH, path)\n",
    "            \n",
    "            for link in paths:\n",
    "                links_kerala.append(link.get_attribute('href'))\n",
    "                route_kerala.append(link.text)\n",
    "\n",
    "            try:\n",
    "                # Wait for pagination element to be present\n",
    "                pagination = wait.until(EC.presence_of_all_elements_located((By.XPATH, \"//div[@class='DC_117_paginationTable']\")))\n",
    "                next_button = pagination[0].find_element(By.XPATH, f'//div[@class=\"DC_117_pageTabs \" and text()={i+1}]')\n",
    "                driver.execute_script(\"arguments[0].scrollIntoView();\", next_button)\n",
    "                time.sleep(4)\n",
    "                next_button.click()\n",
    "            \n",
    "            except (NoSuchElementException, TimeoutException):\n",
    "                print(f\"No more pages to paginate at step {i}\")\n",
    "                break\n",
    "\n",
    "    except NoSuchWindowException:\n",
    "        print(\"Browser window has been closed or is not available.\")\n",
    "\n",
    "    except Exception as e:\n",
    "        print(f\"An unexpected error occurred: {e}\")\n",
    "\n",
    "    return links_kerala, route_kerala"
   ]
  },
  {
   "cell_type": "code",
   "execution_count": 9,
   "metadata": {},
   "outputs": [
    {
     "name": "stdout",
     "output_type": "stream",
     "text": [
      "Browser window has been closed or is not available.\n"
     ]
    }
   ],
   "source": [
    "# After closing the window\n",
    "\n",
    "links_kerala, route_kerala = retrieve_kerala_routes(driver, \"//a[@class='route']\")"
   ]
  },
  {
   "cell_type": "code",
   "execution_count": 14,
   "metadata": {},
   "outputs": [
    {
     "name": "stdout",
     "output_type": "stream",
     "text": [
      "No more pages to paginate at step 2\n"
     ]
    }
   ],
   "source": [
    "from selenium.webdriver.common.by import By\n",
    "from selenium.webdriver.support.ui import WebDriverWait\n",
    "from selenium.webdriver.support import expected_conditions as EC\n",
    "from selenium.common.exceptions import NoSuchElementException, NoSuchWindowException, TimeoutException\n",
    "import time\n",
    "\n",
    "# Initialize the WebDriver (this example uses Chrome, ensure you have the chromedriver executable in your PATH)\n",
    "driver = webdriver.Chrome()\n",
    "\n",
    "# Navigate to the starting URL (replace with the actual URL you are working with)\n",
    "driver.get(statelinks[2])\n",
    "time.sleep(2)\n",
    "\n",
    "# Maximize window\n",
    "driver.maximize_window()\n",
    "\n",
    "# Retrieve kerala routes\n",
    "def retrieve_kerala_routes(driver, path, max_pages):\n",
    "    links_kerala = []\n",
    "    route_kerala = []\n",
    "    \n",
    "    # Wait for the page to load\n",
    "    wait = WebDriverWait(driver, 10)\n",
    "    \n",
    "    try:\n",
    "        for i in range(1, max_pages + 1):\n",
    "\n",
    "            # Retrieve route links and names\n",
    "            paths = driver.find_elements(By.XPATH, path)\n",
    "            \n",
    "            for link in paths:\n",
    "                links_kerala.append(link.get_attribute('href'))\n",
    "                route_kerala.append(link.text)\n",
    "\n",
    "            try:\n",
    "                # Wait for pagination element to be present\n",
    "                pagination = wait.until(EC.presence_of_all_elements_located((By.XPATH, \"//div[@class='DC_117_paginationTable']\")))\n",
    "                next_button = pagination[0].find_element(By.XPATH, f'//div[@class=\"DC_117_pageTabs \" and text()={i+1}]')\n",
    "                driver.execute_script(\"arguments[0].scrollIntoView();\", next_button)\n",
    "                time.sleep(4)\n",
    "                next_button.click()\n",
    "            \n",
    "            except (NoSuchElementException, TimeoutException):\n",
    "                print(f\"No more pages to paginate at step {i}\")\n",
    "                break\n",
    "\n",
    "    except NoSuchWindowException:\n",
    "        print(\"Browser window has been closed or is not available.\")\n",
    "    except Exception as e:\n",
    "        print(f\"An unexpected error occurred: {e}\")\n",
    "\n",
    "    return links_kerala, route_kerala\n",
    "\n",
    "# Example usage\n",
    "links_kerala, route_kerala = retrieve_kerala_routes(driver, \"//a[@class='route']\", 3)"
   ]
  },
  {
   "cell_type": "code",
   "execution_count": 12,
   "metadata": {},
   "outputs": [
    {
     "name": "stdout",
     "output_type": "stream",
     "text": [
      "Browser window has been closed or is not available.\n"
     ]
    }
   ],
   "source": [
    "links_kerala, route_kerala = retrieve_kerala_routes(driver, \"//a[@class='route']\", 2)"
   ]
  },
  {
   "cell_type": "code",
   "execution_count": 16,
   "metadata": {},
   "outputs": [
    {
     "data": {
      "text/plain": [
       "['https://www.redbus.in/bus-tickets/bangalore-to-kozhikode',\n",
       " 'https://www.redbus.in/bus-tickets/kozhikode-to-ernakulam',\n",
       " 'https://www.redbus.in/bus-tickets/kozhikode-to-bangalore',\n",
       " 'https://www.redbus.in/bus-tickets/ernakulam-to-kozhikode',\n",
       " 'https://www.redbus.in/bus-tickets/kozhikode-to-mysore',\n",
       " 'https://www.redbus.in/bus-tickets/kozhikode-to-thiruvananthapuram',\n",
       " 'https://www.redbus.in/bus-tickets/bangalore-to-kalpetta',\n",
       " 'https://www.redbus.in/bus-tickets/mysore-to-kozhikode',\n",
       " 'https://www.redbus.in/bus-tickets/kalpetta-to-bangalore',\n",
       " 'https://www.redbus.in/bus-tickets/kozhikode-to-thrissur',\n",
       " 'https://www.redbus.in/bus-tickets/thiruvananthapuram-to-kozhikode',\n",
       " 'https://www.redbus.in/bus-tickets/bangalore-to-kannur',\n",
       " 'https://www.redbus.in/bus-tickets/kozhikode-to-kottayam',\n",
       " 'https://www.redbus.in/bus-tickets/kannur-to-bangalore',\n",
       " 'https://www.redbus.in/bus-tickets/kottayam-to-kozhikode',\n",
       " 'https://www.redbus.in/bus-tickets/thrissur-to-kozhikode',\n",
       " 'https://www.redbus.in/bus-tickets/kozhikode-to-kalpetta',\n",
       " 'https://www.redbus.in/bus-tickets/coimbatore-to-ooty',\n",
       " 'https://www.redbus.in/bus-tickets/kalpetta-to-kozhikode']"
      ]
     },
     "execution_count": 16,
     "metadata": {},
     "output_type": "execute_result"
    }
   ],
   "source": [
    "links_kerala"
   ]
  },
  {
   "cell_type": "code",
   "execution_count": 20,
   "metadata": {},
   "outputs": [
    {
     "data": {
      "text/plain": [
       "['Bangalore to Kozhikode',\n",
       " 'Kozhikode to Ernakulam',\n",
       " 'Kozhikode to Bangalore',\n",
       " 'Ernakulam to Kozhikode',\n",
       " 'Kozhikode to Mysore',\n",
       " 'Kozhikode to Thiruvananthapuram',\n",
       " 'Bangalore to Kalpetta (kerala)',\n",
       " 'Mysore to Kozhikode',\n",
       " 'Kalpetta (kerala) to Bangalore',\n",
       " 'Kozhikode to Thrissur',\n",
       " 'Thiruvananthapuram to Kozhikode',\n",
       " 'Bangalore to Kannur',\n",
       " 'Kozhikode to Kottayam',\n",
       " 'Kannur to Bangalore',\n",
       " 'Kottayam to Kozhikode',\n",
       " 'Thrissur to Kozhikode',\n",
       " 'Kozhikode to Kalpetta (kerala)',\n",
       " 'Coimbatore to Ooty',\n",
       " 'Kalpetta (kerala) to Kozhikode']"
      ]
     },
     "execution_count": 20,
     "metadata": {},
     "output_type": "execute_result"
    }
   ],
   "source": [
    "route_kerala"
   ]
  },
  {
   "cell_type": "code",
   "execution_count": 21,
   "metadata": {},
   "outputs": [
    {
     "data": {
      "text/html": [
       "<div>\n",
       "<style scoped>\n",
       "    .dataframe tbody tr th:only-of-type {\n",
       "        vertical-align: middle;\n",
       "    }\n",
       "\n",
       "    .dataframe tbody tr th {\n",
       "        vertical-align: top;\n",
       "    }\n",
       "\n",
       "    .dataframe thead th {\n",
       "        text-align: right;\n",
       "    }\n",
       "</style>\n",
       "<table border=\"1\" class=\"dataframe\">\n",
       "  <thead>\n",
       "    <tr style=\"text-align: right;\">\n",
       "      <th></th>\n",
       "      <th>Route_Name</th>\n",
       "      <th>Route_Link</th>\n",
       "    </tr>\n",
       "  </thead>\n",
       "  <tbody>\n",
       "    <tr>\n",
       "      <th>0</th>\n",
       "      <td>Bangalore to Kozhikode</td>\n",
       "      <td>https://www.redbus.in/bus-tickets/bangalore-to...</td>\n",
       "    </tr>\n",
       "    <tr>\n",
       "      <th>1</th>\n",
       "      <td>Kozhikode to Ernakulam</td>\n",
       "      <td>https://www.redbus.in/bus-tickets/kozhikode-to...</td>\n",
       "    </tr>\n",
       "    <tr>\n",
       "      <th>2</th>\n",
       "      <td>Kozhikode to Bangalore</td>\n",
       "      <td>https://www.redbus.in/bus-tickets/kozhikode-to...</td>\n",
       "    </tr>\n",
       "    <tr>\n",
       "      <th>3</th>\n",
       "      <td>Ernakulam to Kozhikode</td>\n",
       "      <td>https://www.redbus.in/bus-tickets/ernakulam-to...</td>\n",
       "    </tr>\n",
       "    <tr>\n",
       "      <th>4</th>\n",
       "      <td>Kozhikode to Mysore</td>\n",
       "      <td>https://www.redbus.in/bus-tickets/kozhikode-to...</td>\n",
       "    </tr>\n",
       "    <tr>\n",
       "      <th>5</th>\n",
       "      <td>Kozhikode to Thiruvananthapuram</td>\n",
       "      <td>https://www.redbus.in/bus-tickets/kozhikode-to...</td>\n",
       "    </tr>\n",
       "    <tr>\n",
       "      <th>6</th>\n",
       "      <td>Bangalore to Kalpetta (kerala)</td>\n",
       "      <td>https://www.redbus.in/bus-tickets/bangalore-to...</td>\n",
       "    </tr>\n",
       "    <tr>\n",
       "      <th>7</th>\n",
       "      <td>Mysore to Kozhikode</td>\n",
       "      <td>https://www.redbus.in/bus-tickets/mysore-to-ko...</td>\n",
       "    </tr>\n",
       "    <tr>\n",
       "      <th>8</th>\n",
       "      <td>Kalpetta (kerala) to Bangalore</td>\n",
       "      <td>https://www.redbus.in/bus-tickets/kalpetta-to-...</td>\n",
       "    </tr>\n",
       "    <tr>\n",
       "      <th>9</th>\n",
       "      <td>Kozhikode to Thrissur</td>\n",
       "      <td>https://www.redbus.in/bus-tickets/kozhikode-to...</td>\n",
       "    </tr>\n",
       "    <tr>\n",
       "      <th>10</th>\n",
       "      <td>Thiruvananthapuram to Kozhikode</td>\n",
       "      <td>https://www.redbus.in/bus-tickets/thiruvananth...</td>\n",
       "    </tr>\n",
       "    <tr>\n",
       "      <th>11</th>\n",
       "      <td>Bangalore to Kannur</td>\n",
       "      <td>https://www.redbus.in/bus-tickets/bangalore-to...</td>\n",
       "    </tr>\n",
       "    <tr>\n",
       "      <th>12</th>\n",
       "      <td>Kozhikode to Kottayam</td>\n",
       "      <td>https://www.redbus.in/bus-tickets/kozhikode-to...</td>\n",
       "    </tr>\n",
       "    <tr>\n",
       "      <th>13</th>\n",
       "      <td>Kannur to Bangalore</td>\n",
       "      <td>https://www.redbus.in/bus-tickets/kannur-to-ba...</td>\n",
       "    </tr>\n",
       "    <tr>\n",
       "      <th>14</th>\n",
       "      <td>Kottayam to Kozhikode</td>\n",
       "      <td>https://www.redbus.in/bus-tickets/kottayam-to-...</td>\n",
       "    </tr>\n",
       "    <tr>\n",
       "      <th>15</th>\n",
       "      <td>Thrissur to Kozhikode</td>\n",
       "      <td>https://www.redbus.in/bus-tickets/thrissur-to-...</td>\n",
       "    </tr>\n",
       "    <tr>\n",
       "      <th>16</th>\n",
       "      <td>Kozhikode to Kalpetta (kerala)</td>\n",
       "      <td>https://www.redbus.in/bus-tickets/kozhikode-to...</td>\n",
       "    </tr>\n",
       "    <tr>\n",
       "      <th>17</th>\n",
       "      <td>Coimbatore to Ooty</td>\n",
       "      <td>https://www.redbus.in/bus-tickets/coimbatore-t...</td>\n",
       "    </tr>\n",
       "    <tr>\n",
       "      <th>18</th>\n",
       "      <td>Kalpetta (kerala) to Kozhikode</td>\n",
       "      <td>https://www.redbus.in/bus-tickets/kalpetta-to-...</td>\n",
       "    </tr>\n",
       "  </tbody>\n",
       "</table>\n",
       "</div>"
      ],
      "text/plain": [
       "                         Route_Name  \\\n",
       "0            Bangalore to Kozhikode   \n",
       "1            Kozhikode to Ernakulam   \n",
       "2            Kozhikode to Bangalore   \n",
       "3            Ernakulam to Kozhikode   \n",
       "4               Kozhikode to Mysore   \n",
       "5   Kozhikode to Thiruvananthapuram   \n",
       "6    Bangalore to Kalpetta (kerala)   \n",
       "7               Mysore to Kozhikode   \n",
       "8    Kalpetta (kerala) to Bangalore   \n",
       "9             Kozhikode to Thrissur   \n",
       "10  Thiruvananthapuram to Kozhikode   \n",
       "11              Bangalore to Kannur   \n",
       "12            Kozhikode to Kottayam   \n",
       "13              Kannur to Bangalore   \n",
       "14            Kottayam to Kozhikode   \n",
       "15            Thrissur to Kozhikode   \n",
       "16   Kozhikode to Kalpetta (kerala)   \n",
       "17               Coimbatore to Ooty   \n",
       "18   Kalpetta (kerala) to Kozhikode   \n",
       "\n",
       "                                           Route_Link  \n",
       "0   https://www.redbus.in/bus-tickets/bangalore-to...  \n",
       "1   https://www.redbus.in/bus-tickets/kozhikode-to...  \n",
       "2   https://www.redbus.in/bus-tickets/kozhikode-to...  \n",
       "3   https://www.redbus.in/bus-tickets/ernakulam-to...  \n",
       "4   https://www.redbus.in/bus-tickets/kozhikode-to...  \n",
       "5   https://www.redbus.in/bus-tickets/kozhikode-to...  \n",
       "6   https://www.redbus.in/bus-tickets/bangalore-to...  \n",
       "7   https://www.redbus.in/bus-tickets/mysore-to-ko...  \n",
       "8   https://www.redbus.in/bus-tickets/kalpetta-to-...  \n",
       "9   https://www.redbus.in/bus-tickets/kozhikode-to...  \n",
       "10  https://www.redbus.in/bus-tickets/thiruvananth...  \n",
       "11  https://www.redbus.in/bus-tickets/bangalore-to...  \n",
       "12  https://www.redbus.in/bus-tickets/kozhikode-to...  \n",
       "13  https://www.redbus.in/bus-tickets/kannur-to-ba...  \n",
       "14  https://www.redbus.in/bus-tickets/kottayam-to-...  \n",
       "15  https://www.redbus.in/bus-tickets/thrissur-to-...  \n",
       "16  https://www.redbus.in/bus-tickets/kozhikode-to...  \n",
       "17  https://www.redbus.in/bus-tickets/coimbatore-t...  \n",
       "18  https://www.redbus.in/bus-tickets/kalpetta-to-...  "
      ]
     },
     "execution_count": 21,
     "metadata": {},
     "output_type": "execute_result"
    }
   ],
   "source": [
    "df_kerala = pd.DataFrame({'Route_Name':route_kerala, 'Route_Link':links_kerala})\n",
    "df_kerala"
   ]
  },
  {
   "cell_type": "code",
   "execution_count": 22,
   "metadata": {},
   "outputs": [],
   "source": [
    "df_kerala.to_csv('C:/Users/DELL/OneDrive/Desktop/CAPSTONE PROJECT/redbus_selenium/df_kerala.csv', index = False)"
   ]
  },
  {
   "cell_type": "code",
   "execution_count": 28,
   "metadata": {},
   "outputs": [
    {
     "name": "stdout",
     "output_type": "stream",
     "text": [
      "Successfully Completed\n"
     ]
    }
   ],
   "source": [
    "# Retrive the bus details\n",
    "\n",
    "driver_kerala = webdriver.Chrome()\n",
    "\n",
    "Bus_names_kerala = []\n",
    "Bus_types_kerala = []\n",
    "Start_Time_kerala = []\n",
    "End_Time_kerala = []\n",
    "Ratings_kerala = []\n",
    "Total_Duration_kerala = []\n",
    "Prices_kerala = []\n",
    "Seats_Available_kerala = []\n",
    "Route_names = []\n",
    "Route_link = []\n",
    "\n",
    "# Loop through route links and names\n",
    "\n",
    "for i, r in df_kerala.iterrows():\n",
    "    link = r[\"Route_Link\"]\n",
    "    routes = r[\"Route_Name\"]\n",
    "\n",
    "    driver_kerala.get(link)\n",
    "    time.sleep(2)  \n",
    "\n",
    "    # Click on elements to reveal bus details\n",
    "    elements = driver_kerala.find_elements(By.XPATH, f\"//a[contains(@href, '{link}')]\")\n",
    "    for element in elements:\n",
    "        element.click()\n",
    "        time.sleep(2)\n",
    "        \n",
    "    # click elements to views bus\n",
    "    try:\n",
    "        clicks = driver_kerala.find_element(By.XPATH, \"//div[@class='button']\")\n",
    "        clicks.click()\n",
    "    except:\n",
    "        continue  \n",
    "    time.sleep(2)\n",
    "    \n",
    "    scrolling = True\n",
    "    while scrolling:\n",
    "        old_page_source = driver_kerala.page_source\n",
    "        \n",
    "        # Use ActionChains to perform a PAGE_DOWN\n",
    "        ActionChains(driver_kerala).send_keys(Keys.PAGE_DOWN).perform()\n",
    "        \n",
    "        time.sleep(5)  \n",
    "        \n",
    "        new_page_source = driver_kerala.page_source\n",
    "        \n",
    "        if new_page_source == old_page_source:\n",
    "            scrolling = False\n",
    "\n",
    "    # Extract bus details\n",
    "    bus_name = driver_kerala.find_elements(By.XPATH, \"//div[@class='travels lh-24 f-bold d-color']\")\n",
    "    bus_type = driver_kerala.find_elements(By.XPATH, \"//div[@class='bus-type f-12 m-top-16 l-color evBus']\")\n",
    "    start_time = driver_kerala.find_elements(By.XPATH, \"//*[@class='dp-time f-19 d-color f-bold']\")\n",
    "    end_time = driver_kerala.find_elements(By.XPATH, \"//*[@class='bp-time f-19 d-color disp-Inline']\")\n",
    "    total_duration = driver_kerala.find_elements(By.XPATH, \"//*[@class='dur l-color lh-24']\")\n",
    "\n",
    "    try:\n",
    "        rating = driver_kerala.find_elements(By.XPATH,\"//div[@class='clearfix row-one']/div[@class='column-six p-right-10 w-10 fl']\")\n",
    "\n",
    "    except:\n",
    "        continue\n",
    "    price = driver_kerala.find_elements(By.XPATH, '//*[@class=\"fare d-block\"]')\n",
    "    seats = driver_kerala.find_elements(By.XPATH, \"//div[contains(@class, 'seat-left')]\")\n",
    "\n",
    "    # Append data to respective lists\n",
    "    for bus in bus_name:\n",
    "        Bus_names_kerala.append(bus.text)\n",
    "        Route_link.append(link)\n",
    "        Route_names.append(routes)\n",
    "\n",
    "    for bus_type_elem in bus_type:\n",
    "        Bus_types_kerala.append(bus_type_elem.text)\n",
    "\n",
    "    for start_time_elem in start_time:\n",
    "        Start_Time_kerala.append(start_time_elem.text)\n",
    "\n",
    "    for end_time_elem in end_time:\n",
    "        End_Time_kerala.append(end_time_elem.text)\n",
    "\n",
    "    for total_duration_elem in total_duration:\n",
    "        Total_Duration_kerala.append(total_duration_elem.text)\n",
    "\n",
    "    for ratings in rating:\n",
    "        Ratings_kerala.append(ratings.text)\n",
    "\n",
    "    for price_elem in price:\n",
    "        Prices_kerala.append(price_elem.text)\n",
    "\n",
    "    for seats_elem in seats:\n",
    "        Seats_Available_kerala.append(seats_elem.text)\n",
    "        \n",
    "print(\"Successfully Completed\")"
   ]
  },
  {
   "cell_type": "code",
   "execution_count": 29,
   "metadata": {},
   "outputs": [],
   "source": [
    "# from list to convert data frame\n",
    "\n",
    "data = {\n",
    "    'Bus_name': Bus_names_kerala,\n",
    "    'Bus_type': Bus_types_kerala,\n",
    "    'Start_time': Start_Time_kerala,\n",
    "    'End_time': End_Time_kerala,\n",
    "    'Total_duration': Total_Duration_kerala,\n",
    "    'Price': Prices_kerala,\n",
    "    \"Seats_Available\":Seats_Available_kerala,\n",
    "    \"Ratings\":Ratings_kerala,\n",
    "    'Route_link': Route_link,\n",
    "    'Route_name': Route_names\n",
    "}\n",
    "\n",
    "# kerala - convert dataframe to csv\n",
    "\n",
    "df_buses_1 = pd.DataFrame(data)\n",
    "\n",
    "path=r\"C:/Users/DELL/OneDrive/Desktop/CAPSTONE PROJECT/redbus_selenium/df_buses_1.csv\"\n",
    "\n",
    "df_buses_1.to_csv(path, index = False)"
   ]
  },
  {
   "cell_type": "code",
   "execution_count": 58,
   "metadata": {},
   "outputs": [],
   "source": [
    "from selenium import webdriver\n",
    "from selenium.webdriver.common.by import By\n",
    "from selenium.webdriver.support.ui import WebDriverWait\n",
    "from selenium.webdriver.support import expected_conditions as EC\n",
    "from selenium.common.exceptions import NoSuchElementException, NoSuchWindowException\n",
    "import time\n",
    "\n",
    "# Initialize WebDriver\n",
    "driver_andhra = webdriver.Chrome()\n",
    "\n",
    "# Load the webpage\n",
    "driver_andhra.get(statelinks[0])\n",
    "# driver_andhra.get(\"https://www.redbus.in/online-booking/apsrtc/?utm_source=rtchometile\")\n",
    "\n",
    "time.sleep(3)\n",
    "\n",
    "# Maximize window\n",
    "driver_andhra.maximize_window()\n",
    "\n",
    "# Retrieve bus links and route\n",
    "wait = WebDriverWait(driver_andhra, 20)\n",
    "\n",
    "def retrieve_andhra_routes(driver, path, max_pages):\n",
    "    links_andhra = []\n",
    "    route_andhra = []\n",
    "    \n",
    "    # Wait for the page to load\n",
    "    wait = WebDriverWait(driver, 10)\n",
    "    \n",
    "    try:\n",
    "        for i in range(1, max_pages + 1):\n",
    "\n",
    "            # Retrieve route links and names\n",
    "            paths = driver.find_elements(By.XPATH, path)\n",
    "            \n",
    "            for link in paths:\n",
    "                links_kerala.append(link.get_attribute('href'))\n",
    "                route_kerala.append(link.text)\n",
    "\n",
    "            try:\n",
    "                # Wait for pagination element to be present\n",
    "                pagination = wait.until(EC.presence_of_all_elements_located((By.XPATH, \"//div[@class='DC_117_paginationTable']\")))\n",
    "                next_button = pagination[0].find_element(By.XPATH, f'//div[@class=\"DC_117_pageTabs \" and text()={i+1}]')\n",
    "                driver.execute_script(\"arguments[0].scrollIntoView();\", next_button)\n",
    "                time.sleep(4)\n",
    "                next_button.click()\n",
    "            \n",
    "            except (NoSuchElementException, TimeoutException):\n",
    "                print(f\"No more pages to paginate at step {i}\")\n",
    "                break\n",
    "\n",
    "    except NoSuchWindowException:\n",
    "        print(\"Browser window has been closed or is not available.\")\n",
    "    except Exception as e:\n",
    "        print(f\"An unexpected error occurred: {e}\")\n",
    "\n",
    "    return links_andhra, route_andhra"
   ]
  },
  {
   "cell_type": "code",
   "execution_count": 59,
   "metadata": {},
   "outputs": [
    {
     "name": "stdout",
     "output_type": "stream",
     "text": [
      "Browser window has been closed or is not available.\n"
     ]
    }
   ],
   "source": [
    "# Example usage\n",
    "links_andhra, route_andhra = retrieve_andhra_routes(driver, \"//a[@class='route']\", 3)"
   ]
  },
  {
   "cell_type": "code",
   "execution_count": 63,
   "metadata": {},
   "outputs": [
    {
     "name": "stdout",
     "output_type": "stream",
     "text": [
      "Browser window has been closed or is not available.\n"
     ]
    }
   ],
   "source": [
    "links_kerala, route_kerala = retrieve_kerala_routes(driver, \"//a[@class='route']\", 5)"
   ]
  },
  {
   "cell_type": "code",
   "execution_count": 62,
   "metadata": {},
   "outputs": [
    {
     "data": {
      "text/html": [
       "<div>\n",
       "<style scoped>\n",
       "    .dataframe tbody tr th:only-of-type {\n",
       "        vertical-align: middle;\n",
       "    }\n",
       "\n",
       "    .dataframe tbody tr th {\n",
       "        vertical-align: top;\n",
       "    }\n",
       "\n",
       "    .dataframe thead th {\n",
       "        text-align: right;\n",
       "    }\n",
       "</style>\n",
       "<table border=\"1\" class=\"dataframe\">\n",
       "  <thead>\n",
       "    <tr style=\"text-align: right;\">\n",
       "      <th></th>\n",
       "      <th>Route_name</th>\n",
       "      <th>Route_link</th>\n",
       "    </tr>\n",
       "  </thead>\n",
       "  <tbody>\n",
       "  </tbody>\n",
       "</table>\n",
       "</div>"
      ],
      "text/plain": [
       "Empty DataFrame\n",
       "Columns: [Route_name, Route_link]\n",
       "Index: []"
      ]
     },
     "execution_count": 62,
     "metadata": {},
     "output_type": "execute_result"
    }
   ],
   "source": [
    "df_andhra = pd.DataFrame({\"Route_name\" : route_andhra, \"Route_link\" : links_andhra})\n",
    "df_andhra"
   ]
  }
 ],
 "metadata": {
  "kernelspec": {
   "display_name": "Python 3",
   "language": "python",
   "name": "python3"
  },
  "language_info": {
   "codemirror_mode": {
    "name": "ipython",
    "version": 3
   },
   "file_extension": ".py",
   "mimetype": "text/x-python",
   "name": "python",
   "nbconvert_exporter": "python",
   "pygments_lexer": "ipython3",
   "version": "3.12.4"
  }
 },
 "nbformat": 4,
 "nbformat_minor": 2
}
