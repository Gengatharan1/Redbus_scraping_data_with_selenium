{
 "cells": [
  {
   "cell_type": "code",
   "execution_count": 1,
   "metadata": {},
   "outputs": [],
   "source": [
    "import time\n",
    "from selenium import webdriver\n",
    "from selenium.webdriver.common.by import By\n",
    "from selenium.webdriver import Keys, ActionChains\n",
    "from selenium.webdriver.chrome.service import Service\n",
    "from selenium.webdriver.support.ui import WebDriverWait\n",
    "from selenium.webdriver.support import expected_conditions as EC\n",
    "import pandas as pd\n",
    "import sqlalchemy"
   ]
  },
  {
   "cell_type": "code",
   "execution_count": 2,
   "metadata": {},
   "outputs": [
    {
     "data": {
      "text/plain": [
       "[['Andhra Pradesh State Road Transport Corporation',\n",
       "  'https://www.redbus.in/online-booking/apsrtc'],\n",
       " ['Assam State Transport Corporation',\n",
       "  'https://www.redbus.in/online-booking/astc'],\n",
       " ['Bihar State Tourism Development Corporation',\n",
       "  'https://www.redbus.in/online-booking/bihar-state-tourism-development-corporation'],\n",
       " ['Himachal Road Transport Corporation',\n",
       "  'https://www.redbus.in/online-booking/hrtc'],\n",
       " ['ammu and Kashmir State Road Transport Corporation',\n",
       "  'https://www.redbus.in/online-booking/jksrtc'],\n",
       " ['Kerala RTC', 'https://www.redbus.in/online-booking/ksrtc-kerala'],\n",
       " ['Kadamba Transport Corporation',\n",
       "  'https://www.redbus.in/online-booking/ktcl'],\n",
       " ['Patiala and the East Punjab States Union',\n",
       "  'https://www.redbus.in/online-booking/pepsu'],\n",
       " ['Puducherry Road Transport Corporation',\n",
       "  'https://www.redbus.in/online-booking/puducherry-road-transport-corporation-prtc'],\n",
       " ['Rajasthan State Road Transport Corporation',\n",
       "  'https://www.redbus.in/online-booking/rsrtc'],\n",
       " ['South Bengal State Transport Corporation',\n",
       "  'https://www.redbus.in/online-booking/south-bengal-state-transport-corporation-sbstc'],\n",
       " ['Uttarakhand Transport Corporation',\n",
       "  'https://www.redbus.in/online-booking/utc'],\n",
       " ['West Bengal Transport Corporation',\n",
       "  'https://www.redbus.in/online-booking/west-bengal-transport-corporation'],\n",
       " ['North Bengal State Transport Corporation',\n",
       "  'https://www.redbus.in/online-booking/north-bengal-state-transport-corporation'],\n",
       " ['Chandigarh Transport Undertaking (CTU)',\n",
       "  'https://www.redbus.in/online-booking/chandigarh-transport-undertaking-ctu']]"
      ]
     },
     "execution_count": 2,
     "metadata": {},
     "output_type": "execute_result"
    }
   ],
   "source": [
    "# create an empty state list\n",
    "states_links = []\n",
    "\n",
    "# open chrome driver\n",
    "driver = webdriver.Chrome()\n",
    "\n",
    "# get the redbus URL\n",
    "driver.get('https://www.redbus.in/')\n",
    "\n",
    "# Maximize window\n",
    "driver.maximize_window()\n",
    "\n",
    "WebDriverWait(driver, 10).until(\n",
    "    EC.presence_of_element_located((By.XPATH,\"//*[contains(text(),'Government bus ticket')]\"))\n",
    ")\n",
    "\n",
    "govt_section = driver.find_element(By.XPATH,\"//*[contains(text(),'Government bus ticket')]\")\n",
    "govt_section.click()\n",
    "\n",
    "WebDriverWait(driver, 10).until(\n",
    "    EC.presence_of_element_located((By.XPATH,\"//*[contains(text(),'Yes, you can book government bus')]\"))\n",
    ")\n",
    "\n",
    "govt_links_text = driver.find_element(By.XPATH,\"//*[contains(text(),'Yes, you can book government bus')]\")\n",
    "govt_links = govt_links_text.find_elements(By.TAG_NAME,'a')\n",
    "for i in govt_links:\n",
    "    states_links.append([i.text, i.get_attribute(\"href\")])\n",
    "\n",
    "driver.close()\n",
    "\n",
    "states_links"
   ]
  },
  {
   "cell_type": "code",
   "execution_count": 3,
   "metadata": {},
   "outputs": [],
   "source": [
    "states_links = [\n",
    "    ['Andhra Pradesh',\n",
    "    'https://www.redbus.in/online-booking/apsrtc'],\n",
    "    ['Assam',\n",
    "    'https://www.redbus.in/online-booking/astc'],\n",
    "    ['Assam',\n",
    "     'https://www.redbus.in/online-booking/kaac-transport'],\n",
    "    ['Bihar',\n",
    "    'https://www.redbus.in/online-booking/bihar-state-road-transport-corporation-bsrtc'],\n",
    "    ['Himachal',\n",
    "    'https://www.redbus.in/online-booking/hrtc'],\n",
    "    ['Jammu and Kashmir',\n",
    "    'https://www.redbus.in/online-booking/jksrtc'],\n",
    "    ['Kerala', \n",
    "     'https://www.redbus.in/online-booking/ksrtc-kerala'],\n",
    "    ['Kadamba',\n",
    "    'https://www.redbus.in/online-booking/ktcl'],\n",
    "    ['Meghalaya',\n",
    "     'https://www.redbus.in/online-booking/meghalaya-transport-corporation-mtc'],\n",
    "    ['Patiala and the East Punjab',\n",
    "    'https://www.redbus.in/online-booking/pepsu'],\n",
    "    ['Rajasthan',\n",
    "    'https://www.redbus.in/online-booking/rsrtc'],\n",
    "    ['Sikkim', \n",
    "     'https://www.redbus.in/online-booking/sikkim-nationalised-transport-snt'],\n",
    "    ['South Bengal',\n",
    "    'https://www.redbus.in/online-booking/south-bengal-state-transport-corporation-sbstc'],\n",
    "    ['Telangana',\n",
    "    'https://www.redbus.in/online-booking/tsrtc'],\n",
    "    ['Uttar Pradesh',\n",
    "    'https://www.redbus.in/online-booking/uttar-pradesh-state-road-transport-corporation-upsrtc'],\n",
    "    ['West Bengal',\n",
    "    'https://www.redbus.in/online-booking/west-bengal-transport-corporation'],\n",
    "    ['North Bengal',\n",
    "    'https://www.redbus.in/online-booking/north-bengal-state-transport-corporation'],\n",
    "    ['Chandigarh',\n",
    "    'https://www.redbus.in/online-booking/chandigarh-transport-undertaking-ctu']\n",
    "]"
   ]
  },
  {
   "cell_type": "code",
   "execution_count": 4,
   "metadata": {},
   "outputs": [],
   "source": [
    "import csv\n",
    "\n",
    "filename = \"states.csv\"\n",
    "\n",
    "# Writing to a CSV file\n",
    "with open(filename, mode='w', newline='') as file:\n",
    "    writer = csv.writer(file)\n",
    "    \n",
    "    # Write each item in the list as a new row\n",
    "    writer.writerow(['state','state_link'])\n",
    "    for item in states_links:\n",
    "        writer.writerow(item)"
   ]
  }
 ],
 "metadata": {
  "kernelspec": {
   "display_name": "Python 3",
   "language": "python",
   "name": "python3"
  },
  "language_info": {
   "codemirror_mode": {
    "name": "ipython",
    "version": 3
   },
   "file_extension": ".py",
   "mimetype": "text/x-python",
   "name": "python",
   "nbconvert_exporter": "python",
   "pygments_lexer": "ipython3",
   "version": "3.12.5"
  }
 },
 "nbformat": 4,
 "nbformat_minor": 2
}
