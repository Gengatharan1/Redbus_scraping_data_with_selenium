{
 "cells": [
  {
   "cell_type": "code",
   "execution_count": 1,
   "metadata": {},
   "outputs": [],
   "source": [
    "import time\n",
    "from selenium import webdriver\n",
    "from selenium.webdriver.common.by import By\n",
    "from selenium.webdriver import Keys, ActionChains\n",
    "from selenium.webdriver.chrome.service import Service\n",
    "from selenium.webdriver.support.ui import WebDriverWait\n",
    "from selenium.webdriver.support import expected_conditions as EC\n",
    "import pandas as pd\n",
    "import sqlalchemy\n",
    "import csv"
   ]
  },
  {
   "cell_type": "code",
   "execution_count": 2,
   "metadata": {},
   "outputs": [],
   "source": [
    "states_details = [\n",
    "    ['Andhra Pradesh',\n",
    "    'https://www.redbus.in/online-booking/apsrtc'],\n",
    "    ['Assam',\n",
    "    'https://www.redbus.in/online-booking/astc'],\n",
    "    ['Assam',\n",
    "     'https://www.redbus.in/online-booking/kaac-transport'],\n",
    "    ['Bihar',\n",
    "    'https://www.redbus.in/online-booking/bihar-state-road-transport-corporation-bsrtc'],\n",
    "    ['Himachal',\n",
    "    'https://www.redbus.in/online-booking/hrtc'],\n",
    "    ['Jammu and Kashmir',\n",
    "    'https://www.redbus.in/online-booking/jksrtc'],\n",
    "    ['Kerala', \n",
    "     'https://www.redbus.in/online-booking/ksrtc-kerala'],\n",
    "    ['Kadamba',\n",
    "    'https://www.redbus.in/online-booking/ktcl'],\n",
    "    ['Meghalaya',\n",
    "     'https://www.redbus.in/online-booking/meghalaya-transport-corporation-mtc'],\n",
    "    ['Patiala and the East Punjab',\n",
    "    'https://www.redbus.in/online-booking/pepsu'],\n",
    "    ['Rajasthan',\n",
    "    'https://www.redbus.in/online-booking/rsrtc'],\n",
    "    ['Sikkim', \n",
    "     'https://www.redbus.in/online-booking/sikkim-nationalised-transport-snt'],\n",
    "    ['South Bengal',\n",
    "    'https://www.redbus.in/online-booking/south-bengal-state-transport-corporation-sbstc'],\n",
    "    ['Telangana',\n",
    "    'https://www.redbus.in/online-booking/tsrtc'],\n",
    "    ['Uttar Pradesh',\n",
    "    'https://www.redbus.in/online-booking/uttar-pradesh-state-road-transport-corporation-upsrtc'],\n",
    "    ['West Bengal',\n",
    "    'https://www.redbus.in/online-booking/west-bengal-transport-corporation'],\n",
    "    ['North Bengal',\n",
    "    'https://www.redbus.in/online-booking/north-bengal-state-transport-corporation'],\n",
    "    ['Chandigarh',\n",
    "    'https://www.redbus.in/online-booking/chandigarh-transport-undertaking-ctu']\n",
    "]"
   ]
  },
  {
   "cell_type": "code",
   "execution_count": 3,
   "metadata": {},
   "outputs": [
    {
     "name": "stdout",
     "output_type": "stream",
     "text": [
      "[['Andhra Pradesh', 'https://www.redbus.in/online-booking/apsrtc'], ['Assam', 'https://www.redbus.in/online-booking/astc'], ['Assam', 'https://www.redbus.in/online-booking/kaac-transport'], ['Bihar', 'https://www.redbus.in/online-booking/bihar-state-road-transport-corporation-bsrtc'], ['Himachal', 'https://www.redbus.in/online-booking/hrtc'], ['Jammu and Kashmir', 'https://www.redbus.in/online-booking/jksrtc'], ['Kerala', 'https://www.redbus.in/online-booking/ksrtc-kerala'], ['Kadamba', 'https://www.redbus.in/online-booking/ktcl'], ['Meghalaya', 'https://www.redbus.in/online-booking/meghalaya-transport-corporation-mtc'], ['Patiala and the East Punjab', 'https://www.redbus.in/online-booking/pepsu'], ['Rajasthan', 'https://www.redbus.in/online-booking/rsrtc'], ['Sikkim', 'https://www.redbus.in/online-booking/sikkim-nationalised-transport-snt'], ['South Bengal', 'https://www.redbus.in/online-booking/south-bengal-state-transport-corporation-sbstc'], ['Telangana', 'https://www.redbus.in/online-booking/tsrtc'], ['Uttar Pradesh', 'https://www.redbus.in/online-booking/uttar-pradesh-state-road-transport-corporation-upsrtc'], ['West Bengal', 'https://www.redbus.in/online-booking/west-bengal-transport-corporation'], ['North Bengal', 'https://www.redbus.in/online-booking/north-bengal-state-transport-corporation'], ['Chandigarh', 'https://www.redbus.in/online-booking/chandigarh-transport-undertaking-ctu']]\n"
     ]
    }
   ],
   "source": [
    "import pandas as pd\n",
    "\n",
    "df = pd.read_csv('states.csv')\n",
    "\n",
    "states_details = df.values.tolist()\n",
    "\n",
    "print(states_details)"
   ]
  },
  {
   "cell_type": "code",
   "execution_count": 4,
   "metadata": {},
   "outputs": [],
   "source": [
    "    # for page_i in range(len(pages)): # 0 - 4 ---> number of pages based on index\n",
    "    #     print(page_i)\n",
    "    #     routes = driver.find_elements(By.CLASS_NAME,\"route\")\n",
    "    #     routed_details = []\n",
    "    #     for route in routes:\n",
    "    #         routes_details.append([state_details[0], route.text, route.get_attribute(\"href\")])\n",
    "    #     if page_i == len(pages) - 1: # stop before clicking out of index page\n",
    "    #         break\n",
    "    #     driver.execute_script(\"arguments[0].click()\", pages[page_i + 1]) # 1 - 4 --> navigate the pagination table\n",
    "    # print('pages', pages)\n",
    "\n",
    "# print('routes', len(routes_details))"
   ]
  },
  {
   "cell_type": "code",
   "execution_count": 5,
   "metadata": {},
   "outputs": [
    {
     "name": "stdout",
     "output_type": "stream",
     "text": [
      "Andhra Pradesh\n",
      "pages 5\n",
      "Assam\n",
      "pages 5\n",
      "Assam\n",
      "pages 2\n",
      "Bihar\n",
      "pages 4\n",
      "Himachal\n",
      "pages 5\n",
      "Jammu and Kashmir\n",
      "pages 2\n",
      "Kerala\n",
      "pages 2\n",
      "Kadamba\n",
      "pages 4\n",
      "Meghalaya\n",
      "pages 2\n",
      "Patiala and the East Punjab\n",
      "pages 3\n",
      "Rajasthan\n",
      "pages 3\n",
      "Sikkim\n",
      "pages 2\n",
      "South Bengal\n",
      "pages 5\n",
      "Telangana\n",
      "pages 3\n",
      "Uttar Pradesh\n",
      "pages 5\n",
      "West Bengal\n",
      "pages 0\n",
      "North Bengal\n",
      "pages 5\n",
      "Chandigarh\n",
      "pages 5\n",
      "routes 551\n"
     ]
    }
   ],
   "source": [
    "# Open chrome driver\n",
    "driver = webdriver.Chrome()\n",
    "\n",
    "# Maximize window\n",
    "driver.maximize_window()\n",
    "\n",
    "routes_details = []\n",
    "\n",
    "for state_details in states_details: \n",
    "\n",
    "    # get the url links of the each states\n",
    "    driver.get(state_details[1])\n",
    "    \n",
    "    # Using Xpath, to navigate the each pages of the webelements\n",
    "    page_nums = WebDriverWait(driver, 10).until(\n",
    "        EC.presence_of_element_located((By.XPATH, \"//div[@class='DC_117_paginationTable']\"))\n",
    "    )\n",
    "    pages = len(page_nums.find_elements(By.XPATH, './*'))   # find all the elements in the particular with corresponding pages\n",
    "    print(state_details[0])    \n",
    "    print('pages', pages)\n",
    "    \n",
    "    # retrieve the number of pages based on index\n",
    "    for page_i in range(pages):\n",
    "        routes = driver.find_elements(By.CLASS_NAME, \"route\")\n",
    "        for route in routes:\n",
    "            routes_details.append([state_details[0], route.text, route.get_attribute(\"href\")])            \n",
    "        if page_i == pages - 1: # stop before clicking out of index page\n",
    "            break\n",
    "\n",
    "        WebDriverWait(driver, 10).until(EC.presence_of_all_elements_located((By.XPATH, \"//div[@class='DC_117_paginationTable']\")))\n",
    "        next_button = WebDriverWait(driver, 10).until(EC.presence_of_element_located((By.XPATH, f'//div[@class=\"DC_117_pageTabs \" and text()={page_i+2}]')))\n",
    "        driver.execute_script(\"arguments[0].click()\", next_button)\n",
    "\n",
    "driver.close()\n",
    "\n",
    "# total no of routes available\n",
    "print('routes', len(routes_details))"
   ]
  },
  {
   "cell_type": "code",
   "execution_count": 6,
   "metadata": {},
   "outputs": [],
   "source": [
    "# open routes csv to update the bus routes details, by using file operation in a write mode\n",
    "\n",
    "filename = \"routes.csv\"\n",
    "\n",
    "with open(filename, mode='w', newline='') as file:\n",
    "    writer = csv.writer(file)\n",
    "    writer.writerow(['state','route_name', 'route_link'])\n",
    "    for item in routes_details:\n",
    "        writer.writerow(item)"
   ]
  }
 ],
 "metadata": {
  "kernelspec": {
   "display_name": "Python 3",
   "language": "python",
   "name": "python3"
  },
  "language_info": {
   "codemirror_mode": {
    "name": "ipython",
    "version": 3
   },
   "file_extension": ".py",
   "mimetype": "text/x-python",
   "name": "python",
   "nbconvert_exporter": "python",
   "pygments_lexer": "ipython3",
   "version": "3.12.5"
  }
 },
 "nbformat": 4,
 "nbformat_minor": 2
}
