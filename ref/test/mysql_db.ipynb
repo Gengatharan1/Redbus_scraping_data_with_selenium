{
 "cells": [
  {
   "cell_type": "code",
   "execution_count": null,
   "metadata": {},
   "outputs": [],
   "source": [
    "import streamlit as st\n",
    "import pandas as pd\n",
    "\n",
    "# mysqlclient\n",
    "\n",
    "db_url = f'mysql+mysqldb://{username}:{password}@{hostname}/{database}'\n",
    "\n",
    "# Function to execute and display the result of a SQL query\n",
    "def execute_query(session, query, params):\n",
    "    try:\n",
    "        cursor.execute(query, params)\n",
    "        results = cursor.fetchall()\n",
    "        df = pd.DataFrame(results, columns=[\"Bus_name\", \"Bus_type\", \"Start_time\", \"End_time\", \"Total_duration\",\n",
    "                                            \"Price\", \"Seats_Available\", \"Ratings\", \"Route_name\", \"Origin\", \"Destination\"])\n",
    "        return df\n",
    "    except Exception as e:\n",
    "        st.error(f\"Error fetching data: {e}\")\n",
    "        return pd.DataFrame()\n"
   ]
  }
 ],
 "metadata": {
  "language_info": {
   "name": "python"
  }
 },
 "nbformat": 4,
 "nbformat_minor": 2
}
