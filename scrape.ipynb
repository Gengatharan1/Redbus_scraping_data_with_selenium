{
 "cells": [
  {
   "cell_type": "code",
   "execution_count": 1,
   "metadata": {},
   "outputs": [],
   "source": [
    "import time\n",
    "from selenium import webdriver\n",
    "from selenium.webdriver.common.by import By\n",
    "from selenium.webdriver import Keys, ActionChains\n",
    "from selenium.webdriver.chrome.service import Service\n",
    "from selenium.webdriver.support.ui import WebDriverWait\n",
    "from selenium.webdriver.support import expected_conditions as EC\n",
    "import pandas as pd\n",
    "import sqlalchemy"
   ]
  },
  {
   "cell_type": "code",
   "execution_count": 2,
   "metadata": {},
   "outputs": [
    {
     "data": {
      "text/plain": [
       "['https://www.redbus.in/online-booking/apsrtc',\n",
       " 'https://www.redbus.in/online-booking/astc',\n",
       " 'https://www.redbus.in/online-booking/bihar-state-tourism-development-corporation',\n",
       " 'https://www.redbus.in/online-booking/hrtc',\n",
       " 'https://www.redbus.in/online-booking/jksrtc',\n",
       " 'https://www.redbus.in/online-booking/ksrtc-kerala',\n",
       " 'https://www.redbus.in/online-booking/ktcl',\n",
       " 'https://www.redbus.in/online-booking/pepsu',\n",
       " 'https://www.redbus.in/online-booking/puducherry-road-transport-corporation-prtc',\n",
       " 'https://www.redbus.in/online-booking/rsrtc',\n",
       " 'https://www.redbus.in/online-booking/south-bengal-state-transport-corporation-sbstc',\n",
       " 'https://www.redbus.in/online-booking/utc',\n",
       " 'https://www.redbus.in/online-booking/west-bengal-transport-corporation',\n",
       " 'https://www.redbus.in/online-booking/north-bengal-state-transport-corporation',\n",
       " 'https://www.redbus.in/online-booking/chandigarh-transport-undertaking-ctu']"
      ]
     },
     "execution_count": 2,
     "metadata": {},
     "output_type": "execute_result"
    }
   ],
   "source": [
    "states_links=[]\n",
    "driver = webdriver.Chrome()  # Optional argument, if not specified will search path.\n",
    "Bus1=driver.get('https://www.redbus.in/')\n",
    "driver.maximize_window()\n",
    "\n",
    "WebDriverWait(driver, 10).until(\n",
    "    EC.presence_of_element_located((By.XPATH,\"//*[contains(text(),'Government bus ticket')]\"))\n",
    ")\n",
    "\n",
    "govt_section = driver.find_element(By.XPATH,\"//*[contains(text(),'Government bus ticket')]\")\n",
    "govt_section.click()\n",
    "\n",
    "WebDriverWait(driver, 10).until(\n",
    "    EC.presence_of_element_located((By.XPATH,\"//*[contains(text(),'Yes, you can book government bus')]\"))\n",
    ")\n",
    "\n",
    "govt_links_text = driver.find_element(By.XPATH,\"//*[contains(text(),'Yes, you can book government bus')]\")\n",
    "govt_links = govt_links_text.find_elements(By.TAG_NAME,'a')\n",
    "for i in govt_links:\n",
    "    states_links.append(i.get_attribute(\"href\"))"
   ]
  },
  {
   "cell_type": "code",
   "execution_count": null,
   "metadata": {},
   "outputs": [],
   "source": [
    "import csv\n",
    "\n",
    "filename = \"states.csv\"\n",
    "\n",
    "# Writing to a CSV file\n",
    "with open(filename, mode='w', newline='') as file:\n",
    "    writer = csv.writer(file)\n",
    "    \n",
    "    # Write each item in the list as a new row\n",
    "    for item in data:\n",
    "        writer.writerow([item])"
   ]
  }
 ],
 "metadata": {
  "kernelspec": {
   "display_name": "Python 3",
   "language": "python",
   "name": "python3"
  },
  "language_info": {
   "codemirror_mode": {
    "name": "ipython",
    "version": 3
   },
   "file_extension": ".py",
   "mimetype": "text/x-python",
   "name": "python",
   "nbconvert_exporter": "python",
   "pygments_lexer": "ipython3",
   "version": "3.12.4"
  }
 },
 "nbformat": 4,
 "nbformat_minor": 2
}
